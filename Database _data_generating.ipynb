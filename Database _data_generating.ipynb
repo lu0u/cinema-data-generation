{
 "cells": [
  {
   "cell_type": "markdown",
   "metadata": {},
   "source": [
    "# Cinema Data Generation and Fixes\n",
    "\n",
    "This notebook generates synthetic data for a cinema management system, backfills missing transactions, and fixes missing ticket associations. The data is stored in a PostgreSQL database.\n",
    "\n",
    "---\n",
    "\n",
    "## Table of Contents\n",
    "1. [Database Configuration](#database-configuration)\n",
    "2. [Data Generation](#data-generation)\n",
    "   - [Populate Static Dimensions](#populate-static-dimensions)\n",
    "   - [Generate Customers](#generate-customers)\n",
    "   - [Generate Time Dimension](#generate-time-dimension)\n",
    "   - [Generate Movies and Relations](#generate-movies-and-relations)\n",
    "   - [Generate Showings and Tickets](#generate-showings-and-tickets)\n",
    "   - [Generate Transactions](#generate-transactions)\n",
    "3. [Backfill Missing Transactions](#backfill-missing-transactions)\n",
    "4. [Fix Missing Tickets](#fix-missing-tickets)\n",
    "5. [Main Workflow](#main-workflow)\n",
    "\n",
    "---\n",
    "\n",
    "## Database Configuration\n",
    "\n",
    "The database connection details are stored in the `DB_CONFIG` dictionary. "
   ]
  },
  {
   "cell_type": "code",
   "execution_count": null,
   "metadata": {},
   "outputs": [],
   "source": [
    "import random\n",
    "from faker import Faker\n",
    "import psycopg2\n",
    "from datetime import datetime, timedelta\n",
    "import sys\n",
    "from psycopg2.extras import execute_values\n",
    "from multiprocessing import Pool, cpu_count\n",
    "from io import StringIO\n",
    "import time"
   ]
  },
  {
   "cell_type": "code",
   "execution_count": null,
   "metadata": {},
   "outputs": [],
   "source": [
    "# Database configuration\n",
    "DB_CONFIG = {\n",
    "    \"dbname\": \"postgres\",\n",
    "    \"user\": \"postgres\",\n",
    "    \"password\": \"changeme12345\",\n",
    "    \"host\": \"localhost\",\n",
    "    \"port\": \"5432\",\n",
    "    \"options\": \"-c search_path=al_sinama,public\"\n",
    "}\n",
    "\n",
    "def get_db_connection():\n",
    "    \"\"\"Returns a connection to the PostgreSQL database.\"\"\"\n",
    "    return psycopg2.connect(**DB_CONFIG)"
   ]
  },
  {
   "cell_type": "code",
   "execution_count": null,
   "metadata": {},
   "outputs": [],
   "source": []
  }
 ],
 "metadata": {
  "language_info": {
   "name": "python"
  }
 },
 "nbformat": 4,
 "nbformat_minor": 2
}
